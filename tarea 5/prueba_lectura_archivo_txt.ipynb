{
 "cells": [
  {
   "cell_type": "markdown",
   "metadata": {},
   "source": [
    "Prueba de obtener en base a una matriz de adyacencia el diccionario correspondiente."
   ]
  },
  {
   "cell_type": "code",
   "execution_count": 13,
   "metadata": {},
   "outputs": [
    {
     "name": "stdout",
     "output_type": "stream",
     "text": [
      "{(0, 1): 2.0, (0, 2): 5.0, (0, 3): 4.0, (1, 0): 2.0, (1, 2): 2.0, (1, 4): 7.0, (2, 0): 5.0, (2, 1): 2.0, (2, 3): 1.0, (2, 4): 4.0, (2, 5): 3.0, (3, 0): 4.0, (3, 2): 1.0, (3, 5): 4.0, (4, 1): 7.0, (4, 2): 4.0, (4, 5): 1.0, (4, 6): 5.0, (5, 2): 3.0, (5, 3): 4.0, (5, 4): 1.0, (5, 6): 7.0, (6, 4): 5.0, (6, 5): 7.0}\n"
     ]
    }
   ],
   "source": [
    "import numpy as np\n",
    "renglon = []\n",
    "with open('ejemplo1.txt','r') as ejemplo1:\n",
    "    for linea in ejemplo1:\n",
    "        renglon.append(linea.split( ))\n",
    "\n",
    "for item in renglon:\n",
    "    for subitem in range(len(item)):\n",
    "        item[subitem] = float(item[subitem])\n",
    "caminos = { }\n",
    "for i in range(len(renglon)):\n",
    "    for j in range(len(renglon)):\n",
    "        if renglon[i][j] != 0:\n",
    "                caminos.update({(i,j): renglon[i][j]})\n",
    "print(caminos)"
   ]
  },
  {
   "cell_type": "markdown",
   "metadata": {},
   "source": [
    "Prueba para generar una matriz aleatoria de una red no dirigida n*n con numpy"
   ]
  },
  {
   "cell_type": "code",
   "execution_count": 14,
   "metadata": {},
   "outputs": [
    {
     "name": "stdout",
     "output_type": "stream",
     "text": [
      "[[ 0 24 11 45 33 23  4  0  8  7]\n",
      " [24  0 47 49  4 16 10 44 13 31]\n",
      " [11 47  0 11 34 14 33 45 21  0]\n",
      " [45 49 11  0 43 46 38 14 27 33]\n",
      " [33  4 34 43  0 21 47  0 17 35]\n",
      " [23 16 14 46 21  0 24  2 29 40]\n",
      " [ 4 10 33 38 47 24  0 26 30 48]\n",
      " [ 0 44 45 14  0  2 26  0 18  9]\n",
      " [ 8 13 21 27 17 29 30 18  0  5]\n",
      " [ 7 31  0 33 35 40 48  9  5  0]]\n"
     ]
    }
   ],
   "source": [
    "import numpy as np\n",
    "array = np.random.randint(50, size = (10,10))\n",
    "for i in range(len(array[0])):\n",
    "    for j in range(len(array[0])):\n",
    "        if i == j:\n",
    "            array[i,j] = 0\n",
    "        array[i,j] = array[j,i]\n",
    "print(array)"
   ]
  },
  {
   "cell_type": "markdown",
   "metadata": {},
   "source": [
    "prueba de diccionarios"
   ]
  },
  {
   "cell_type": "code",
   "execution_count": 15,
   "metadata": {},
   "outputs": [
    {
     "name": "stdout",
     "output_type": "stream",
     "text": [
      "{'a': {'pred': ['f', 'g']}}\n"
     ]
    }
   ],
   "source": [
    "caminos = {'a': {'pred' : ['f']}}\n",
    "caminos['a']['pred'] = list(caminos['a']['pred']) + ['g']\n",
    "print(caminos)"
   ]
  },
  {
   "cell_type": "markdown",
   "metadata": {},
   "source": [
    "escribir la matriz adyacente en un archivo txt"
   ]
  },
  {
   "cell_type": "code",
   "execution_count": 16,
   "metadata": {},
   "outputs": [],
   "source": [
    "with open('ejemplo3.txt','w') as file:\n",
    "    for i in array:\n",
    "        for j in i:\n",
    "            file.write(\"%f \" %j)\n",
    "        file.write(\"\\n\")"
   ]
  },
  {
   "cell_type": "markdown",
   "metadata": {},
   "source": [
    "Crear gráficos a partir de lista de adyacencias"
   ]
  },
  {
   "cell_type": "code",
   "execution_count": 51,
   "metadata": {},
   "outputs": [
    {
     "data": {
      "image/png": "[encoded data removed]",
      "text/plain": [
       "<Figure size 432x288 with 1 Axes>"
      ]
     },
     "metadata": {},
     "output_type": "display_data"
    }
   ],
   "source": [
    "import matplotlib.pyplot as plt\n",
    "import networkx as nx\n",
    "import numpy as np\n",
    "renglon = []\n",
    "with open('ejemplo3.txt','r') as ejemplo1:\n",
    "    for line in ejemplo1:\n",
    "        lista = []\n",
    "        for x in line.split():\n",
    "            lista.append(float(x))\n",
    "        renglon.append(lista)\n",
    "matriz = np.array(renglon)\n",
    "\n",
    "G = nx.from_numpy_matrix(matriz)\n",
    "options = {\n",
    "    'node_color': 'blue',\n",
    "    'node_size': 500,\n",
    "    'width': 3,\n",
    "    'arrowstyle': '-|>',\n",
    "    'arrowsize': 10,\n",
    "}\n",
    "# pos = nx.get_node_attributes(G,'pos')\n",
    "# cambiar planar por circular o random\n",
    "pos = nx.circular_layout(G, center=None, dim=2)\n",
    "# valores de los caminos\n",
    "labels = nx.get_edge_attributes(G, 'weight')\n",
    "# dibujar caminos y nodos\n",
    "# TODO pone los nombres de los nodos.\n",
    "nx.draw_networkx(G, pos, arrows=True, **options, with_labels=True)\n",
    "nx.draw_networkx_edge_labels(G, pos, edge_labels=labels)\n",
    "plt.savefig(\"ejemplo3.eps\")"
   ]
  },
  {
   "cell_type": "code",
   "execution_count": null,
   "metadata": {},
   "outputs": [],
   "source": []
  }
 ],
 "metadata": {
  "interpreter": {
   "hash": "916dbcbb3f70747c44a77c7bcd40155683ae19c65e1c03b4aa3499c5328201f1"
  },
  "kernelspec": {
   "display_name": "Python 3.8.10 64-bit",
   "language": "python",
   "name": "python3"
  },
  "language_info": {
   "codemirror_mode": {
    "name": "ipython",
    "version": 3
   },
   "file_extension": ".py",
   "mimetype": "text/x-python",
   "name": "python",
   "nbconvert_exporter": "python",
   "pygments_lexer": "ipython3",
   "version": "3.8.10"
  },
  "orig_nbformat": 4
 },
 "nbformat": 4,
 "nbformat_minor": 2
}
