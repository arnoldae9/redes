{
 "cells": [
  {
   "cell_type": "code",
   "execution_count": 10,
   "metadata": {},
   "outputs": [
    {
     "name": "stdout",
     "output_type": "stream",
     "text": [
      "4\n"
     ]
    }
   ],
   "source": [
    "import numpy as np\n",
    "import networkx as nx\n",
    "G = nx.DiGraph()\n",
    "MAXN = 220\n",
    "cap=[[0]*MAXN for _ in range(MAXN)]\n",
    "renglon = []\n",
    "with open('prueba1.txt','r') as ejemplo1:\n",
    "    for linea in ejemplo1:\n",
    "        renglon.append(linea.split( ))\n",
    "\n",
    "for item in renglon:\n",
    "    for subitem in range(len(item)):\n",
    "        item[subitem] = int(item[subitem])\n",
    "for item in range(len(renglon)):\n",
    "    cap[renglon[item][0]][renglon[item][1]] = renglon[item][2]\n",
    "    i = renglon[item][0]\n",
    "    j = renglon[item][1]\n",
    "    capacidad = renglon[item][2]\n",
    "    G.add_edge(i,j,capacity = capacidad)\n",
    "flow_max = nx.maximum_flow_value(G,1,7)\n",
    "print(flow_max)\n"
   ]
  },
  {
   "cell_type": "code",
   "execution_count": null,
   "metadata": {},
   "outputs": [],
   "source": [
    "for i in range(m):\n",
    "    a,b,c=map(int,input().split(' ')) #TODO se captura linea a linea nodo 'a' a nodo 'b' con capacidad c\n",
    "    #FIXME arreglar que capture los datos desde unn txt.\n",
    "    cap[a][b]=c"
   ]
  }
 ],
 "metadata": {
  "interpreter": {
   "hash": "916dbcbb3f70747c44a77c7bcd40155683ae19c65e1c03b4aa3499c5328201f1"
  },
  "kernelspec": {
   "display_name": "Python 3.8.10 64-bit",
   "language": "python",
   "name": "python3"
  },
  "language_info": {
   "codemirror_mode": {
    "name": "ipython",
    "version": 3
   },
   "file_extension": ".py",
   "mimetype": "text/x-python",
   "name": "python",
   "nbconvert_exporter": "python",
   "pygments_lexer": "ipython3",
   "version": "3.8.10"
  },
  "orig_nbformat": 4
 },
 "nbformat": 4,
 "nbformat_minor": 2
}
