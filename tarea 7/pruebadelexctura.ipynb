{
 "cells": [
  {
   "cell_type": "code",
   "execution_count": 1,
   "metadata": {},
   "outputs": [
    {
     "name": "stdout",
     "output_type": "stream",
     "text": [
      "1 2 3\n",
      "1 3 1\n",
      "2 1 3\n",
      "2 4 1\n",
      "2 7 5\n",
      "3 1 1\n",
      "3 4 2\n",
      "3 6 5\n",
      "4 2 1\n",
      "4 3 2\n",
      "4 5 4\n",
      "4 6 2\n",
      "5 4 4\n",
      "5 7 2\n",
      "5 8 1\n",
      "6 3 5\n",
      "6 4 2\n",
      "6 8 3\n",
      "7 2 5\n",
      "7 5 2\n",
      "8 5 1\n",
      "8 6 3\n"
     ]
    }
   ],
   "source": [
    "import numpy as np\n",
    "import networkx as nx\n",
    "G = nx.DiGraph()\n",
    "MAXN = 220\n",
    "cap=[[0]*MAXN for _ in range(MAXN)]\n",
    "renglon = []\n",
    "with open('Dijkstra.txt','r') as ejemplo1:\n",
    "    for linea in ejemplo1:\n",
    "        renglon.append(linea.split( ))\n",
    "\n",
    "for item in renglon:\n",
    "    for subitem in range(len(item)):\n",
    "        item[subitem] = int(item[subitem])\n",
    "with open('prueba7.txt','a') as prueba:\n",
    "    for i in range(len(renglon[0])):\n",
    "        for j in range (len(renglon[0])):\n",
    "            if renglon[i][j] !=0:\n",
    "                print(i+1,j+1,renglon[i][j])\n",
    "                outnode = int(i+1)\n",
    "                innode = int(j+1)\n",
    "                prueba.write(str(outnode))\n",
    "                prueba.write(\" \")\n",
    "                prueba.write(str(innode))\n",
    "                prueba.write(\" \")\n",
    "                prueba.write(str(renglon[i][j]))\n",
    "                prueba.write(\"\\n\")\n",
    "    prueba.close()\n",
    "\n",
    "\n"
   ]
  },
  {
   "cell_type": "code",
   "execution_count": null,
   "metadata": {},
   "outputs": [],
   "source": [
    "for i in range(m):\n",
    "    a,b,c=map(int,input().split(' ')) #TODO se captura linea a linea nodo 'a' a nodo 'b' con capacidad c\n",
    "    #FIXME arreglar que capture los datos desde unn txt.\n",
    "    cap[a][b]=c"
   ]
  }
 ],
 "metadata": {
  "interpreter": {
   "hash": "916dbcbb3f70747c44a77c7bcd40155683ae19c65e1c03b4aa3499c5328201f1"
  },
  "kernelspec": {
   "display_name": "Python 3.8.10 64-bit",
   "language": "python",
   "name": "python3"
  },
  "language_info": {
   "codemirror_mode": {
    "name": "ipython",
    "version": 3
   },
   "file_extension": ".py",
   "mimetype": "text/x-python",
   "name": "python",
   "nbconvert_exporter": "python",
   "pygments_lexer": "ipython3",
   "version": "3.8.10"
  },
  "orig_nbformat": 4
 },
 "nbformat": 4,
 "nbformat_minor": 2
}
