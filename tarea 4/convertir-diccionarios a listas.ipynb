{
 "cells": [
  {
   "cell_type": "markdown",
   "metadata": {},
   "source": [
    "Cambiar de diccionario a lista"
   ]
  },
  {
   "cell_type": "code",
   "execution_count": 1,
   "metadata": {},
   "outputs": [],
   "source": [
    "grafo = {   'a' : {'b':1,'c':2, 'd':1},\n",
    "                'b' : {'c':2, 'e':1},\n",
    "                'c' : {'d': 1, 'e':-2,'f':2},\n",
    "                'd' : {'f':-5},\n",
    "                'e' : {'f':3,'g':1},\n",
    "                'f' : {'g':4},\n",
    "                'g' : {}}\n",
    "        "
   ]
  },
  {
   "cell_type": "markdown",
   "metadata": {},
   "source": [
    "Ciclo para generar la lista"
   ]
  },
  {
   "cell_type": "code",
   "execution_count": 2,
   "metadata": {},
   "outputs": [
    {
     "name": "stdout",
     "output_type": "stream",
     "text": [
      "[('a', 'b', 1), ('a', 'c', 2), ('a', 'd', 1), ('b', 'c', 2), ('b', 'e', 1), ('c', 'd', 1), ('c', 'e', -2), ('c', 'f', 2), ('d', 'f', -5), ('e', 'f', 3), ('e', 'g', 1), ('f', 'g', 4)]\n"
     ]
    }
   ],
   "source": [
    "elist = []\n",
    "for i in grafo:\n",
    "    for j in grafo[i]:\n",
    "        elist.append((i,j,grafo[i][j]))\n",
    "print(elist)"
   ]
  }
 ],
 "metadata": {
  "interpreter": {
   "hash": "916dbcbb3f70747c44a77c7bcd40155683ae19c65e1c03b4aa3499c5328201f1"
  },
  "kernelspec": {
   "display_name": "Python 3.8.10 64-bit",
   "language": "python",
   "name": "python3"
  },
  "language_info": {
   "codemirror_mode": {
    "name": "ipython",
    "version": 3
   },
   "file_extension": ".py",
   "mimetype": "text/x-python",
   "name": "python",
   "nbconvert_exporter": "python",
   "pygments_lexer": "ipython3",
   "version": "3.8.10"
  },
  "orig_nbformat": 4
 },
 "nbformat": 4,
 "nbformat_minor": 2
}
